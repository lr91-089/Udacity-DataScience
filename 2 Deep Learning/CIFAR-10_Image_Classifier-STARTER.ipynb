{
 "cells": [
  {
   "cell_type": "markdown",
   "metadata": {},
   "source": [
    "# Introduction\n",
    "\n",
    "In this project, you will build a neural network of your own design to evaluate the CIFAR-10 dataset.\n",
    "\n",
    "To meet the requirements for this project, you will need to achieve an accuracy greater than 45%. \n",
    "If you want to beat Detectocorp's algorithm, you'll need to achieve an accuracy greater than 70%. \n",
    "(Beating Detectocorp's algorithm is not a requirement for passing this project, but you're encouraged to try!)\n",
    "\n",
    "Some of the benchmark results on CIFAR-10 include:\n",
    "\n",
    "78.9% Accuracy | [Deep Belief Networks; Krizhevsky, 2010](https://www.cs.toronto.edu/~kriz/conv-cifar10-aug2010.pdf)\n",
    "\n",
    "90.6% Accuracy | [Maxout Networks; Goodfellow et al., 2013](https://arxiv.org/pdf/1302.4389.pdf)\n",
    "\n",
    "96.0% Accuracy | [Wide Residual Networks; Zagoruyko et al., 2016](https://arxiv.org/pdf/1605.07146.pdf)\n",
    "\n",
    "99.0% Accuracy | [GPipe; Huang et al., 2018](https://arxiv.org/pdf/1811.06965.pdf)\n",
    "\n",
    "98.5% Accuracy | [Rethinking Recurrent Neural Networks and other Improvements for ImageClassification; Nguyen et al., 2020](https://arxiv.org/pdf/2007.15161.pdf)\n",
    "\n",
    "Research with this dataset is ongoing. Notably, many of these networks are quite large and quite expensive to train. \n",
    "\n",
    "## Imports"
   ]
  },
  {
   "cell_type": "code",
   "execution_count": 1,
   "metadata": {},
   "outputs": [],
   "source": [
    "## This cell contains the essential imports you will need – DO NOT CHANGE THE CONTENTS! ##\n",
    "import torch\n",
    "import torch.nn as nn\n",
    "import torch.nn.functional as F\n",
    "import torch.optim as optim\n",
    "import torchvision\n",
    "import torchvision.transforms as transforms\n",
    "import matplotlib.pyplot as plt\n",
    "import numpy as np"
   ]
  },
  {
   "cell_type": "code",
   "execution_count": 3,
   "metadata": {},
   "outputs": [
    {
     "name": "stdout",
     "output_type": "stream",
     "text": [
      "MemTotal: 15.6613 GB\r\n",
      "MemFree: 12.015 GB\r\n",
      "MemAvailable: 14.69 GB\r\n"
     ]
    }
   ],
   "source": [
    "!awk '$3==\"kB\"{$2=$2/1024^2;$3=\"GB\";} 1' /proc/meminfo | grep Mem"
   ]
  },
  {
   "cell_type": "code",
   "execution_count": 2,
   "metadata": {},
   "outputs": [
    {
     "name": "stdout",
     "output_type": "stream",
     "text": [
      "Is cuda available?: True\n"
     ]
    }
   ],
   "source": [
    "print(f\"Is cuda available?: {torch.cuda.is_available()}\")\n",
    "if torch.cuda.is_available():\n",
    "    dev = \"cuda:0\"\n",
    "else:\n",
    "    dev = \"cpu\"\n",
    "device = torch.device(dev) "
   ]
  },
  {
   "cell_type": "markdown",
   "metadata": {},
   "source": [
    "## Load the Dataset\n",
    "\n",
    "Specify your transforms as a list first.\n",
    "The transforms module is already loaded as `transforms`.\n",
    "\n",
    "CIFAR-10 is fortunately included in the torchvision module.\n",
    "Then, you can create your dataset using the `CIFAR10` object from `torchvision.datasets` ([the documentation is available here](https://pytorch.org/vision/stable/generated/torchvision.datasets.CIFAR10.html)).\n",
    "Make sure to specify `download=True`! \n",
    "\n",
    "Once your dataset is created, you'll also need to define a `DataLoader` from the `torch.utils.data` module for both the train and the test set."
   ]
  },
  {
   "cell_type": "code",
   "execution_count": 41,
   "metadata": {},
   "outputs": [
    {
     "name": "stdout",
     "output_type": "stream",
     "text": [
      "Files already downloaded and verified\n",
      "Files already downloaded and verified\n",
      "Files already downloaded and verified\n"
     ]
    }
   ],
   "source": [
    "# Define transforms\n",
    "## YOUR CODE HERE ##\n",
    "\n",
    "#define some random data augmentation to improve the learning of meaningfull features and improve the generalization\n",
    "\n",
    "train_transform = transforms.Compose([transforms.RandomCrop((32),padding=4),\n",
    "                                      transforms.RandomHorizontalFlip(p=0.4),\n",
    "                                      transforms.ToTensor(),\n",
    "                                      transforms.Normalize((0.5,0.5,0.5), (0.5,0.5,0.5))])\n",
    "\n",
    "test_transform = transforms.Compose([transforms.ToTensor(),transforms.Normalize((0.5,0.5,0.5), (0.5,0.5,0.5))])\n",
    "\n",
    "view_transform = transforms.Compose([transforms.ToTensor()])\n",
    "\n",
    "batch_size = 64\n",
    "\n",
    "# Create training set and define training dataloader\n",
    "## YOUR CODE HERE ##\n",
    "trainset = torchvision.datasets.CIFAR10(root='./data', train=True, download=True, transform=train_transform)\n",
    "trainloader = torch.utils.data.DataLoader(trainset, batch_size=batch_size, shuffle=True, num_workers=2, pin_memory=True)\n",
    "\n",
    "# Create test set and define test dataloader\n",
    "## YOUR CODE HERE ##\n",
    "testset = torchvision.datasets.CIFAR10(root='./data', train=False, download=True, transform=test_transform)\n",
    "testloader = torch.utils.data.DataLoader(testset, batch_size=batch_size, shuffle=True,num_workers=2,pin_memory=True)\n",
    "\n",
    "viewset = torchvision.datasets.CIFAR10(root='./data', train=False, download=True, transform=view_transform)\n",
    "viewloader = torch.utils.data.DataLoader(viewset, batch_size=batch_size, shuffle=True)\n",
    "\n",
    "# The 10 classes in the dataset\n",
    "classes = ('plane', 'car', 'bird', 'cat', 'deer', 'dog', 'frog', 'horse', 'ship', 'truck')"
   ]
  },
  {
   "cell_type": "markdown",
   "metadata": {},
   "source": [
    "## Explore the Dataset\n",
    "Using matplotlib, numpy, and torch, explore the dimensions of your data.\n",
    "\n",
    "You can view images using the `show5` function defined below – it takes a data loader as an argument.\n",
    "Remember that normalized images will look really weird to you! You may want to try changing your transforms to view images.\n",
    "Typically using no transforms other than `toTensor()` works well for viewing – but not as well for training your network.\n",
    "If `show5` doesn't work, go back and check your code for creating your data loaders and your training/test sets."
   ]
  },
  {
   "cell_type": "code",
   "execution_count": 4,
   "metadata": {},
   "outputs": [],
   "source": [
    "def show5(img_loader):\n",
    "    dataiter = iter(img_loader)\n",
    "    \n",
    "    batch = next(dataiter)\n",
    "    labels = batch[1][0:5]\n",
    "    images = batch[0][0:5]\n",
    "    for i in range(5):\n",
    "        print(classes[labels[i]])\n",
    "    \n",
    "        image = images[i].numpy()\n",
    "        plt.imshow(np.rot90(image.T, k=3))\n",
    "        plt.show()"
   ]
  },
  {
   "cell_type": "code",
   "execution_count": 5,
   "metadata": {},
   "outputs": [
    {
     "name": "stdout",
     "output_type": "stream",
     "text": [
      "frog\n"
     ]
    },
    {
     "data": {
      "image/png": "[encoded data removed]",
      "text/plain": [
       "<matplotlib.figure.Figure at 0x7f4614646d68>"
      ]
     },
     "metadata": {
      "needs_background": "light"
     },
     "output_type": "display_data"
    },
    {
     "name": "stdout",
     "output_type": "stream",
     "text": [
      "truck\n"
     ]
    },
    {
     "data": {
      "image/png": "[encoded data removed]",
      "text/plain": [
       "<matplotlib.figure.Figure at 0x7f45b9b2fac8>"
      ]
     },
     "metadata": {
      "needs_background": "light"
     },
     "output_type": "display_data"
    },
    {
     "name": "stdout",
     "output_type": "stream",
     "text": [
      "bird\n"
     ]
    },
    {
     "data": {
      "image/png": "[encoded data removed]",
      "text/plain": [
       "<matplotlib.figure.Figure at 0x7f45b9a6c828>"
      ]
     },
     "metadata": {
      "needs_background": "light"
     },
     "output_type": "display_data"
    },
    {
     "name": "stdout",
     "output_type": "stream",
     "text": [
      "plane\n"
     ]
    },
    {
     "data": {
      "image/png": "[encoded data removed]",
      "text/plain": [
       "<matplotlib.figure.Figure at 0x7f45b9a37710>"
      ]
     },
     "metadata": {
      "needs_background": "light"
     },
     "output_type": "display_data"
    },
    {
     "name": "stdout",
     "output_type": "stream",
     "text": [
      "truck\n"
     ]
    },
    {
     "data": {
      "image/png": "[encoded data removed]",
      "text/plain": [
       "<matplotlib.figure.Figure at 0x7f45b06d19b0>"
      ]
     },
     "metadata": {
      "needs_background": "light"
     },
     "output_type": "display_data"
    }
   ],
   "source": [
    "# Explore data\n",
    "## YOUR CODE HERE ##\n",
    "show5(viewloader)"
   ]
  },
  {
   "cell_type": "markdown",
   "metadata": {},
   "source": [
    "Let's check the size and shape of the images:"
   ]
  },
  {
   "cell_type": "code",
   "execution_count": 6,
   "metadata": {},
   "outputs": [
    {
     "data": {
      "text/plain": [
       "torch.Size([5, 3, 32, 32])"
      ]
     },
     "execution_count": 6,
     "metadata": {},
     "output_type": "execute_result"
    }
   ],
   "source": [
    "batch = next(iter(trainloader))\n",
    "labels = batch[1][0:5]\n",
    "images = batch[0][0:5]\n",
    "images.shape"
   ]
  },
  {
   "cell_type": "markdown",
   "metadata": {},
   "source": [
    "## Build your Neural Network\n",
    "Using the layers in `torch.nn` (which has been imported as `nn`) and the `torch.nn.functional` module (imported as `F`), construct a neural network based on the parameters of the dataset. \n",
    "Feel free to construct a model of any architecture – feedforward, convolutional, or even something more advanced!"
   ]
  },
  {
   "cell_type": "code",
   "execution_count": 10,
   "metadata": {},
   "outputs": [
    {
     "data": {
      "text/plain": [
       "Sequential(\n",
       "  (0): Linear(in_features=3072, out_features=1024, bias=True)\n",
       "  (1): ReLU()\n",
       "  (2): Linear(in_features=1024, out_features=1024, bias=True)\n",
       "  (3): ReLU()\n",
       "  (4): Linear(in_features=1024, out_features=512, bias=True)\n",
       "  (5): ReLU()\n",
       "  (6): Linear(in_features=512, out_features=256, bias=True)\n",
       "  (7): ReLU()\n",
       "  (8): Linear(in_features=256, out_features=64, bias=True)\n",
       "  (9): ReLU()\n",
       "  (10): Linear(in_features=64, out_features=10, bias=True)\n",
       "  (11): Softmax()\n",
       ")"
      ]
     },
     "execution_count": 10,
     "metadata": {},
     "output_type": "execute_result"
    }
   ],
   "source": [
    "## YOUR CODE HERE ##\n",
    "\n",
    "n_input = 32*32*3\n",
    "\n",
    "n_fc1 = 1024\n",
    "\n",
    "n_fc2 = 1024\n",
    "\n",
    "n_fc3 = 512\n",
    "\n",
    "n_fc4 = 256\n",
    "\n",
    "n_fc5 = 64\n",
    "\n",
    "n_out = 10\n",
    "\n",
    "\n",
    "model = nn.Sequential(\n",
    "                nn.Linear(n_input,n_fc1),\n",
    "                nn.ReLU(),\n",
    "                nn.Linear(n_fc1,n_fc2),\n",
    "                nn.ReLU(),\n",
    "                nn.Linear(n_fc2,n_fc3),\n",
    "                nn.ReLU(),\n",
    "                nn.Linear(n_fc3,n_fc4),\n",
    "                nn.ReLU(),\n",
    "                nn.Linear(n_fc4,n_fc5),\n",
    "                nn.ReLU(),\n",
    "                nn.Linear(n_fc5,n_out),\n",
    "                nn.Softmax(dim=1)\n",
    ")\n",
    "\n",
    "model.to(device)"
   ]
  },
  {
   "cell_type": "markdown",
   "metadata": {},
   "source": [
    "Specify a loss function and an optimizer, and instantiate the model.\n",
    "\n",
    "If you use a less common loss function, please note why you chose that loss function in a comment."
   ]
  },
  {
   "cell_type": "code",
   "execution_count": 11,
   "metadata": {},
   "outputs": [],
   "source": [
    "## YOUR CODE HERE ##\n",
    "\n",
    "#predicting C classes and utilize the great stability of this loss function\n",
    "criterion = nn.CrossEntropyLoss()\n",
    "optimizer = optim.SGD(model.parameters(), lr=0.005, momentum=0.9)"
   ]
  },
  {
   "cell_type": "markdown",
   "metadata": {},
   "source": [
    "## Running your Neural Network\n",
    "Use whatever method you like to train your neural network, and ensure you record the average loss at each epoch. \n",
    "Don't forget to use `torch.device()` and the `.to()` method for both your model and your data if you are using GPU!\n",
    "\n",
    "If you want to print your loss during each epoch, you can use the `enumerate` function and print the loss after a set number of batches. 250 batches works well for most people!"
   ]
  },
  {
   "cell_type": "code",
   "execution_count": 12,
   "metadata": {},
   "outputs": [
    {
     "name": "stdout",
     "output_type": "stream",
     "text": [
      "Epoch: 1/120..  Training Loss: 2.303..  Test Loss: 2.303..  Test Accuracy: 0.100\n",
      "Epoch: 11/120..  Training Loss: 2.155..  Test Loss: 2.135..  Test Accuracy: 0.317\n",
      "Epoch: 21/120..  Training Loss: 2.062..  Test Loss: 2.035..  Test Accuracy: 0.422\n",
      "Epoch: 31/120..  Training Loss: 2.020..  Test Loss: 2.015..  Test Accuracy: 0.440\n",
      "Epoch: 41/120..  Training Loss: 1.996..  Test Loss: 1.985..  Test Accuracy: 0.473\n",
      "Epoch: 51/120..  Training Loss: 1.979..  Test Loss: 1.984..  Test Accuracy: 0.473\n",
      "Epoch: 61/120..  Training Loss: 1.962..  Test Loss: 1.996..  Test Accuracy: 0.460\n",
      "Epoch: 71/120..  Training Loss: 1.950..  Test Loss: 1.952..  Test Accuracy: 0.503\n",
      "Epoch: 81/120..  Training Loss: 1.937..  Test Loss: 1.955..  Test Accuracy: 0.503\n",
      "Epoch: 91/120..  Training Loss: 1.928..  Test Loss: 1.932..  Test Accuracy: 0.524\n",
      "Epoch: 101/120..  Training Loss: 1.921..  Test Loss: 1.936..  Test Accuracy: 0.522\n",
      "Epoch: 111/120..  Training Loss: 1.914..  Test Loss: 1.914..  Test Accuracy: 0.545\n",
      "Finished Training\n"
     ]
    }
   ],
   "source": [
    "## YOUR CODE HERE ##\n",
    "train_losses = []\n",
    "test_losses = []\n",
    "epochs = 120\n",
    "for epoch in range(epochs):  # loop over the dataset multiple times\n",
    "\n",
    "    running_loss = 0.0\n",
    "    for i, data in enumerate(trainloader, 0):\n",
    "        # get the inputs; data is a list of [inputs, labels]\n",
    "        inputs, labels = data\n",
    "        inputs = inputs.view(inputs.shape[0], -1).to(device)\n",
    "        # zero the parameter gradients\n",
    "        optimizer.zero_grad()\n",
    "\n",
    "        # forward + backward + optimize\n",
    "        outputs = model(inputs)\n",
    "        loss = criterion(outputs, labels.to(device))\n",
    "        loss.backward()\n",
    "        optimizer.step()\n",
    "        running_loss += loss.item()\n",
    "        \n",
    "    if epoch%10 == 0:\n",
    "        test_loss = 0\n",
    "        accuracy = 0\n",
    "        \n",
    "        # Turn off gradients for validation, saves memory and computations\n",
    "        with torch.no_grad():\n",
    "            model.eval()\n",
    "            for inputs, labels in testloader:\n",
    "                inputs = inputs.view(inputs.shape[0], -1).to(device)\n",
    "                log_ps = model(inputs)\n",
    "                test_loss += criterion(log_ps, labels.to(device))\n",
    "                \n",
    "                ps = torch.exp(log_ps)\n",
    "                top_p, top_class = ps.topk(1, dim=1)\n",
    "                equals = top_class.to(device) == labels.view(*top_class.to(device).shape).to(device)\n",
    "                accuracy += torch.mean(equals.type(torch.FloatTensor))\n",
    "        \n",
    "        model.train()\n",
    "        \n",
    "        train_losses.append(running_loss/len(trainloader))\n",
    "        test_losses.append(test_loss/len(testloader))\n",
    "\n",
    "        print(\"Epoch: {}/{}.. \".format(epoch+1, epochs),\n",
    "              \"Training Loss: {:.3f}.. \".format(running_loss/len(trainloader)),\n",
    "              \"Test Loss: {:.3f}.. \".format(test_loss/len(testloader)),\n",
    "              \"Test Accuracy: {:.3f}\".format(accuracy/len(testloader)))\n",
    "\n",
    "print('Finished Training')"
   ]
  },
  {
   "cell_type": "markdown",
   "metadata": {},
   "source": [
    "Plot the training loss (and validation loss/accuracy, if recorded)."
   ]
  },
  {
   "cell_type": "code",
   "execution_count": 18,
   "metadata": {},
   "outputs": [
    {
     "data": {
      "image/png": "[encoded data removed]",
      "text/plain": [
       "<matplotlib.figure.Figure at 0x7f45b03b5588>"
      ]
     },
     "metadata": {
      "needs_background": "light"
     },
     "output_type": "display_data"
    }
   ],
   "source": [
    "## YOUR CODE HERE ##\n",
    "x_axis_val = np.arange(1,epochs+1,10)\n",
    "plt.plot(x_axis_val,train_losses, label='Training loss')\n",
    "plt.plot(x_axis_val,test_losses, label='Validation loss')\n",
    "plt.xlabel(\"Epoch\")\n",
    "plt.ylabel(\"Average Training/Validation Loss\")\n",
    "plt.legend(frameon=False)\n",
    "plt.show()"
   ]
  },
  {
   "cell_type": "markdown",
   "metadata": {},
   "source": [
    "## Testing your model\n",
    "Using the previously created `DataLoader` for the test set, compute the percentage of correct predictions using the highest probability prediction. \n",
    "\n",
    "If your accuracy is over 70%, great work! \n",
    "This is a hard task to exceed 70% on.\n",
    "\n",
    "If your accuracy is under 45%, you'll need to make improvements.\n",
    "Go back and check your model architecture, loss function, and optimizer to make sure they're appropriate for an image classification task."
   ]
  },
  {
   "cell_type": "code",
   "execution_count": 17,
   "metadata": {},
   "outputs": [
    {
     "name": "stdout",
     "output_type": "stream",
     "text": [
      "Accuracy of the network on the test images: 53 %\n"
     ]
    }
   ],
   "source": [
    "## YOUR CODE HERE ##\n",
    "correct = 0\n",
    "total = 0\n",
    "model.eval()\n",
    "with torch.no_grad():\n",
    "    for data in testloader:\n",
    "        inputs, labels = data\n",
    "        inputs = inputs.view(inputs.shape[0], -1).to(device)\n",
    "        # calculate outputs by running images through the network\n",
    "        outputs = model(inputs)\n",
    "        # the class with the highest energy is what we choose as prediction\n",
    "        _, predicted = torch.max(outputs.data, 1)\n",
    "        total += labels.size(0)\n",
    "        correct += (predicted == labels.to(device)).sum().item()\n",
    "\n",
    "print(f'Accuracy of the network on the test images: {100 * correct // total} %')"
   ]
  },
  {
   "cell_type": "markdown",
   "metadata": {},
   "source": [
    "## Saving your model\n",
    "Using `torch.save`, save your model for future loading."
   ]
  },
  {
   "cell_type": "code",
   "execution_count": 15,
   "metadata": {},
   "outputs": [],
   "source": [
    "## YOUR CODE HERE ##\n",
    "torch.save(model.state_dict(),\"udacity_model_naive.pth\")"
   ]
  },
  {
   "cell_type": "markdown",
   "metadata": {},
   "source": [
    "## Make a Recommendation\n",
    "\n",
    "Based on your evaluation, what is your recommendation on whether to build or buy? Explain your reasoning below.\n",
    "\n",
    "Some things to consider as you formulate your recommendation:\n",
    "* How does your model compare to Detectocorp's model?\n",
    "* How does it compare to the far more advanced solutions in the literature? \n",
    "* What did you do to get the accuracy you achieved? \n",
    "* Is it necessary to improve this accuracy? If so, what sort of work would be involved in improving it?"
   ]
  },
  {
   "cell_type": "markdown",
   "metadata": {},
   "source": [
    "\n",
    "\n",
    "**Answer:**\n",
    "\n",
    "The great thing about this model is that the training and validation loss are very close to each other. So there is no overfitting! The loss function over the training period also shows some learning/improvement of the neural network!\n",
    "\n",
    "* Compared to the Detectocorp's model there are still some room for improvements, as we still have to overcome a gap in accuracy of 17%. But to be fair, the accuracy of Detectocorp is still way below the baseline results from the literature. So it would not make sense to buy this technology, as it is still below state of the art and we should be able to beat it with some additional development iterations. \n",
    "\n",
    "* Compared to the literature there is a lof of potential for improvement! The main difference between my model and the models from the literature is the deep neural network architecture. So it would be wise to investigate different networks compared to my naive approach.\n",
    "\n",
    "* To achieve this accuracy, I applied some image augmentation. I also tried training with dropout, but suprisingly there was a faster training/validation gap and the accuracy dropped below 50%. To improve the accuracy from my initial network, I added more fully connected layers to deepen the network architecture. I also changed the optimizer from Adam to SGD, as it showed improved results.\n",
    "\n",
    "* The network is way better than a random classifier, which would achieve an accuracy of around 10%, given that there are ten class labels. But the 53% accuracy on the test set are still below the state of the art. So it would be logical to investigate more advanced network architectures to increase the architecture. I also did not apply any parameter tuning to the data and model on hand. This would also increase the chance to improve the overall results. \n",
    "\n",
    "Based on the results of the investigation, I would not recommend to buy the Technology of Detectocorp. Depending on the desired accuracy, it is better to build an own solution. If they really want to buy the tech, they should use some more advanced tech as the state of the art is around 98%-99% accuracy."
   ]
  },
  {
   "cell_type": "markdown",
   "metadata": {},
   "source": [
    "## Test more complex model\n",
    "\n",
    "Even if my model seems to pass the criteria of this project, I want to test another model, which is more sophisticated, but easy to implement. I will try an \"easy\" VGG-Net architecture, which achieved very good results. The paper with the architecture can be found here: https://arxiv.org/abs/1409.1556\n",
    "I tried to implement VGG11, but because of memory reasons I had to reduce the depth of the network. So it is more a \"VGG like\" network. \n",
    "Covolutional neural networks work very good for image recognition. More details can be found in the great course page from the Stanford course **CS231n**: https://cs231n.github.io/convolutional-networks/"
   ]
  },
  {
   "cell_type": "code",
   "execution_count": 45,
   "metadata": {},
   "outputs": [],
   "source": [
    "class VGG_like(nn.Module):\n",
    "    def __init__(self):\n",
    "        super(VGG_like, self).__init__()\n",
    "        # convolutional layers\n",
    "        self.conv_train = self.make_conv_layer()\n",
    "        \n",
    "        # linear layer (4096 -> 10)\n",
    "        self.fc1 = nn.Linear(4096, 10)\n",
    "        #softmax\n",
    "        self.softmax = nn.Softmax(dim=1)\n",
    "    \n",
    "    #neat trick from official pytorch vgg implementation https://github.com/pytorch/vision/blob/main/torchvision/models/vgg.py\n",
    "    #to automate the repetitive architecture building\n",
    "    def make_conv_layer(self):\n",
    "        in_channels = 3\n",
    "        layers = []\n",
    "        #vgg11 = [64, 'M', 128, 'M', 256, 256, 'M', 512, 512, 'M',512, 512, 'M']\n",
    "        #consumes too much memory, so I reduce the depth of the network\n",
    "        vgg_like_out = [64, 'M', 128, 'M', 256, 256, 'M']\n",
    "        for out in vgg_like_out:\n",
    "            #max pool\n",
    "            if(out==\"M\"):\n",
    "                layers += [nn.MaxPool2d(2, 2)]\n",
    "            #else conv layer\n",
    "            else:\n",
    "                layers += [nn.Conv2d(in_channels, out, kernel_size=3, padding=1),\n",
    "                           #it is common practice to add BatchNorm after convolutional layers\n",
    "                           nn.BatchNorm2d(out),\n",
    "                           nn.ReLU()]\n",
    "                in_channels = out\n",
    "        return nn.Sequential(*layers)\n",
    "                \n",
    "\n",
    "    def forward(self,x):\n",
    "        #Layer0\n",
    "        x = self.conv_train(x)\n",
    "        #Layer 5\n",
    "        x = x.view(x.size(0), -1)\n",
    "        x = F.relu(self.fc1(x))\n",
    "        x = self.softmax(x)\n",
    "        return x\n",
    "        "
   ]
  },
  {
   "cell_type": "code",
   "execution_count": 46,
   "metadata": {},
   "outputs": [],
   "source": [
    "## YOUR CODE HERE ##\n",
    "model = VGG_like()\n",
    "model.to(device)\n",
    "#predicting C classes and utilize the great stability of this loss function\n",
    "criterion = nn.CrossEntropyLoss()\n",
    "optimizer = optim.SGD(model.parameters(), lr=0.005, momentum=0.9)"
   ]
  },
  {
   "cell_type": "code",
   "execution_count": 47,
   "metadata": {},
   "outputs": [
    {
     "name": "stdout",
     "output_type": "stream",
     "text": [
      "Epoch: 1/120..  Training Loss: 2.127..  Test Loss: 2.046..  Test Accuracy: 0.410\n",
      "Epoch: 11/120..  Training Loss: 1.895..  Test Loss: 1.899..  Test Accuracy: 0.561\n",
      "Epoch: 21/120..  Training Loss: 1.830..  Test Loss: 1.809..  Test Accuracy: 0.652\n",
      "Epoch: 31/120..  Training Loss: 1.764..  Test Loss: 1.789..  Test Accuracy: 0.673\n",
      "Epoch: 41/120..  Training Loss: 1.743..  Test Loss: 1.766..  Test Accuracy: 0.696\n",
      "Epoch: 51/120..  Training Loss: 1.731..  Test Loss: 1.751..  Test Accuracy: 0.710\n",
      "Epoch: 61/120..  Training Loss: 1.721..  Test Loss: 1.749..  Test Accuracy: 0.713\n",
      "Epoch: 71/120..  Training Loss: 1.713..  Test Loss: 1.743..  Test Accuracy: 0.717\n",
      "Epoch: 81/120..  Training Loss: 1.706..  Test Loss: 1.742..  Test Accuracy: 0.716\n",
      "Epoch: 91/120..  Training Loss: 1.643..  Test Loss: 1.689..  Test Accuracy: 0.786\n",
      "Epoch: 101/120..  Training Loss: 1.630..  Test Loss: 1.669..  Test Accuracy: 0.818\n",
      "Epoch: 111/120..  Training Loss: 1.555..  Test Loss: 1.606..  Test Accuracy: 0.856\n",
      "Finished Training\n"
     ]
    }
   ],
   "source": [
    "## YOUR CODE HERE ##\n",
    "train_losses = []\n",
    "test_losses = []\n",
    "epochs = 120\n",
    "for epoch in range(epochs):  # loop over the dataset multiple times\n",
    "\n",
    "    running_loss = 0.0\n",
    "    for i, data in enumerate(trainloader, 0):\n",
    "        # get the inputs; data is a list of [inputs, labels]\n",
    "        inputs, labels = data\n",
    "        # zero the parameter gradients\n",
    "        optimizer.zero_grad()\n",
    "\n",
    "        # forward + backward + optimize\n",
    "        outputs = model(inputs.to(device))\n",
    "        loss = criterion(outputs, labels.to(device))\n",
    "        loss.backward()\n",
    "        optimizer.step()\n",
    "        running_loss += loss.item()\n",
    "        \n",
    "    if epoch%10 == 0:\n",
    "        test_loss = 0\n",
    "        accuracy = 0\n",
    "        \n",
    "        # Turn off gradients for validation, saves memory and computations\n",
    "        with torch.no_grad():\n",
    "            model.eval()\n",
    "            for inputs, labels in testloader:\n",
    "                log_ps = model(inputs.to(device))\n",
    "                test_loss += criterion(log_ps, labels.to(device))\n",
    "                \n",
    "                ps = torch.exp(log_ps)\n",
    "                top_p, top_class = ps.topk(1, dim=1)\n",
    "                equals = top_class.to(device) == labels.view(*top_class.to(device).shape).to(device)\n",
    "                accuracy += torch.mean(equals.type(torch.FloatTensor))\n",
    "        \n",
    "        model.train()\n",
    "        \n",
    "        train_losses.append(running_loss/len(trainloader))\n",
    "        test_losses.append(test_loss/len(testloader))\n",
    "\n",
    "        print(\"Epoch: {}/{}.. \".format(epoch+1, epochs),\n",
    "              \"Training Loss: {:.3f}.. \".format(running_loss/len(trainloader)),\n",
    "              \"Test Loss: {:.3f}.. \".format(test_loss/len(testloader)),\n",
    "              \"Test Accuracy: {:.3f}\".format(accuracy/len(testloader)))\n",
    "\n",
    "print('Finished Training')"
   ]
  },
  {
   "cell_type": "code",
   "execution_count": 48,
   "metadata": {},
   "outputs": [
    {
     "data": {
      "image/png": "[encoded data removed]",
      "text/plain": [
       "<matplotlib.figure.Figure at 0x7f916093fe10>"
      ]
     },
     "metadata": {
      "needs_background": "light"
     },
     "output_type": "display_data"
    }
   ],
   "source": [
    "## YOUR CODE HERE ##\n",
    "x_axis_val = np.arange(1,epochs+1,10)\n",
    "plt.plot(x_axis_val,train_losses, label='Training loss')\n",
    "plt.plot(x_axis_val,test_losses, label='Validation loss')\n",
    "plt.xlabel(\"Epoch\")\n",
    "plt.ylabel(\"Average Training/Validation Loss\")\n",
    "plt.legend(frameon=False)\n",
    "plt.show()"
   ]
  },
  {
   "cell_type": "code",
   "execution_count": 49,
   "metadata": {},
   "outputs": [
    {
     "name": "stdout",
     "output_type": "stream",
     "text": [
      "Accuracy of the network on the test images: 85 %\n"
     ]
    }
   ],
   "source": [
    "## YOUR CODE HERE ##\n",
    "correct = 0\n",
    "total = 0\n",
    "model.eval()\n",
    "with torch.no_grad():\n",
    "    for data in testloader:\n",
    "        inputs, labels = data\n",
    "        # calculate outputs by running images through the network\n",
    "        outputs = model(inputs.to(device))\n",
    "        # the class with the highest energy is what we choose as prediction\n",
    "        _, predicted = torch.max(outputs.data, 1)\n",
    "        total += labels.size(0)\n",
    "        correct += (predicted == labels.to(device)).sum().item()\n",
    "\n",
    "print(f'Accuracy of the network on the test images: {100 * correct // total} %')"
   ]
  },
  {
   "cell_type": "code",
   "execution_count": 50,
   "metadata": {},
   "outputs": [],
   "source": [
    "## YOUR CODE HERE ##\n",
    "torch.save(model.state_dict(),\"udacity_model_vgglike.pth\")"
   ]
  },
  {
   "cell_type": "markdown",
   "metadata": {},
   "source": [
    "## Final evaluation\n",
    "\n",
    "And I managed to beat Detectocorp's benchmark! The VGG-architecture is even an older architecture (2014) and easily implementabel. The downside are the high memory requirements and that training is slower. But this shows, that it is more than possible to achieve an accuracy over 70% and even improve the benchmark with an accurarcy of 85%! It would be interesting to see how far we can push the accuracy with longer training time. It also notable that we did not tune anything here."
   ]
  },
  {
   "cell_type": "markdown",
   "metadata": {},
   "source": [
    "## Submit Your Project\n",
    "\n",
    "When you are finished editing the notebook and are ready to turn it in, simply click the **SUBMIT PROJECT** button in the lower right.\n",
    "\n",
    "Once you submit your project, we'll review your work and give you feedback if there's anything that you need to work on. If you'd like to see the exact points that your reviewer will check for when looking at your work, you can have a look over the project [rubric](https://review.udacity.com/#!/rubrics/3077/view)."
   ]
  }
 ],
 "metadata": {
  "kernelspec": {
   "display_name": "Python 3",
   "language": "python",
   "name": "python3"
  },
  "language_info": {
   "codemirror_mode": {
    "name": "ipython",
    "version": 3
   },
   "file_extension": ".py",
   "mimetype": "text/x-python",
   "name": "python",
   "nbconvert_exporter": "python",
   "pygments_lexer": "ipython3",
   "version": "3.6.3"
  }
 },
 "nbformat": 4,
 "nbformat_minor": 4
}
